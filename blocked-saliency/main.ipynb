{
 "cells": [
  {
   "cell_type": "code",
   "execution_count": 11,
   "outputs": [],
   "source": [
    "import cv2\n",
    "import os\n",
    "from math import ceil\n",
    "import time\n",
    "import numpy as np\n",
    "from tqdm.auto import tqdm\n",
    "import matplotlib.pyplot as plt\n",
    "import seaborn as sns\n",
    "import importlib\n",
    "import random\n",
    "from matplotlib.animation import FuncAnimation\n",
    "import matplotlib.animation as animation\n",
    "import matplotlib as mpl\n",
    "\n",
    "mpl.rcParams['animation.ffmpeg_path'] = r'C:\\\\ffmpeg\\\\bin\\\\ffmpeg.exe'\n",
    "import matplotlib.gridspec as gridspec"
   ],
   "metadata": {
    "collapsed": false,
    "pycharm": {
     "name": "#%%\n"
    }
   }
  },
  {
   "cell_type": "code",
   "execution_count": 12,
   "outputs": [],
   "source": [
    "class VideoReader:\n",
    "    def __init__(self, path):\n",
    "        self.path = path\n",
    "        self.cap = cv2.VideoCapture(path)\n",
    "        self.height = int(self.cap.get(4))\n",
    "        self.width = int(self.cap.get(3))\n",
    "        self.it = iter(self)\n",
    "        self.length = int(self.cap.get(cv2.CAP_PROP_FRAME_COUNT))\n",
    "        self.fps = self.cap.get(cv2.CAP_PROP_FPS)\n",
    "\n",
    "    def __iter__(self):\n",
    "        while self.cap.isOpened():\n",
    "            ret, frame = self.cap.read()\n",
    "            if ret == False:\n",
    "                break\n",
    "            # frame = cv2.cvtColor(frame, cv2.COLOR_BGR2RGB)\n",
    "            yield frame\n",
    "\n",
    "    def __call__(self):\n",
    "        return next(self.it)\n",
    "\n",
    "    def __del__(self):\n",
    "        self.cap.release()\n",
    "\n",
    "    def refresh(self):\n",
    "        self.cap = cv2.VideoCapture(self.path)"
   ],
   "metadata": {
    "collapsed": false,
    "pycharm": {
     "name": "#%%\n"
    }
   }
  },
  {
   "cell_type": "code",
   "execution_count": 13,
   "outputs": [
    {
     "name": "stdout",
     "output_type": "stream",
     "text": [
      "150 25.0\n"
     ]
    }
   ],
   "source": [
    "vid = VideoReader('vid1.mp4')\n",
    "print(vid.length, vid.fps)"
   ],
   "metadata": {
    "collapsed": false,
    "pycharm": {
     "name": "#%%\n"
    }
   }
  },
  {
   "cell_type": "code",
   "execution_count": 15,
   "outputs": [],
   "source": [
    "class MetricArray:\n",
    "    def __init__(self, path, height, width):\n",
    "        self.block_height = height\n",
    "        self.block_width = width\n",
    "        self.vid = VideoReader(path)\n",
    "        self.n_height = ceil(vid.height / self.block_height)\n",
    "        self.n_width = ceil(vid.width / self.block_width)\n",
    "        self.scores = np.zeros((self.n_height, self.n_width, vid.length))\n",
    "\n",
    "    def get_subframe(self, frame, i, j):\n",
    "        return frame[\n",
    "               i * self.block_height: min(self.vid.height, (i + 1) * self.block_height),\n",
    "               j * self.block_width: min(self.vid.width, (j + 1) * self.block_width)\n",
    "               ]\n",
    "\n",
    "    def split_video(self):\n",
    "        \"\"\"\n",
    "        devide video on n * m subvideos and save each of them in ./tmp/ folder\n",
    "        :return:\n",
    "        \"\"\"\n",
    "\n",
    "        TMP_DIR = './tmp/'\n",
    "        if not os.path.exists(TMP_DIR):\n",
    "            os.mkdir(TMP_DIR)\n",
    "        for f in os.listdir(TMP_DIR):\n",
    "            os.remove(TMP_DIR + f)\n",
    "\n",
    "        fourcc = cv2.VideoWriter_fourcc(*'XVID')\n",
    "\n",
    "        for i in range(self.n_height):\n",
    "            for j in range(self.n_width):\n",
    "                out = cv2.VideoWriter(f'{TMP_DIR}{i}_{j}.mp4', fourcc, vid.fps, (self.block_width, self.block_height))\n",
    "                for frame in vid:\n",
    "                    subframe = self.get_subframe(frame, i, j)\n",
    "                    out.write(subframe)\n",
    "                out.release()\n",
    "                vid.refresh()\n",
    "\n",
    "\n",
    "m = MetricArray('vid1.mp4', 540, 960)\n",
    "m.split_video()"
   ],
   "metadata": {
    "collapsed": false,
    "pycharm": {
     "name": "#%%\n"
    }
   }
  }
 ],
 "metadata": {
  "kernelspec": {
   "display_name": "Python 3",
   "language": "python",
   "name": "python3"
  },
  "language_info": {
   "codemirror_mode": {
    "name": "ipython",
    "version": 2
   },
   "file_extension": ".py",
   "mimetype": "text/x-python",
   "name": "python",
   "nbconvert_exporter": "python",
   "pygments_lexer": "ipython2",
   "version": "2.7.6"
  }
 },
 "nbformat": 4,
 "nbformat_minor": 0
}